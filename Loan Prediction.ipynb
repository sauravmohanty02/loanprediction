{
 "cells": [
  {
   "cell_type": "code",
   "execution_count": 86,
   "id": "7629ce14",
   "metadata": {
    "collapsed": true
   },
   "outputs": [],
   "source": [
    "import numpy as np\n",
    "import pandas as pd\n",
    "import matplotlib.pyplot as plt\n",
    "import seaborn as sns\n",
    "import warnings\n",
    "\n",
    "from sklearn.preprocessing import LabelEncoder\n",
    "from sklearn.model_selection import train_test_split\n",
    "from sklearn.metrics import confusion_matrix\n",
    "from sklearn.metrics import classification_report\n",
    "from sklearn.metrics import accuracy_score\n",
    "\n",
    "from sklearn.tree import DecisionTreeClassifier\n",
    "from sklearn.ensemble import RandomForestClassifier\n",
    "from xgboost import XGBClassifier\n",
    "from sklearn.linear_model import LogisticRegression\n",
    "\n",
    "warnings.filterwarnings(\"ignore\")"
   ]
  },
  {
   "cell_type": "code",
   "execution_count": 27,
   "id": "74d65070",
   "metadata": {
    "collapsed": true
   },
   "outputs": [],
   "source": [
    "dtr = pd.read_csv(\"/Users/mili/Downloads/Loan_Prediction/traindata.csv\")\n",
    "dte = pd.read_csv(\"/Users/mili/Downloads/Loan_Prediction/testdata.csv\")"
   ]
  },
  {
   "cell_type": "code",
   "execution_count": 28,
   "id": "c8b91a4f",
   "metadata": {
    "collapsed": true
   },
   "outputs": [
    {
     "data": {
      "text/html": [
       "<div>\n",
       "<style scoped>\n",
       "    .dataframe tbody tr th:only-of-type {\n",
       "        vertical-align: middle;\n",
       "    }\n",
       "\n",
       "    .dataframe tbody tr th {\n",
       "        vertical-align: top;\n",
       "    }\n",
       "\n",
       "    .dataframe thead th {\n",
       "        text-align: right;\n",
       "    }\n",
       "</style>\n",
       "<table border=\"1\" class=\"dataframe\">\n",
       "  <thead>\n",
       "    <tr style=\"text-align: right;\">\n",
       "      <th></th>\n",
       "      <th>Loan_ID</th>\n",
       "      <th>Gender</th>\n",
       "      <th>Married</th>\n",
       "      <th>Dependents</th>\n",
       "      <th>Education</th>\n",
       "      <th>Self_Employed</th>\n",
       "      <th>ApplicantIncome</th>\n",
       "      <th>CoapplicantIncome</th>\n",
       "      <th>LoanAmount</th>\n",
       "      <th>Loan_Amount_Term</th>\n",
       "      <th>Credit_History</th>\n",
       "      <th>Property_Area</th>\n",
       "      <th>Loan_Status</th>\n",
       "    </tr>\n",
       "  </thead>\n",
       "  <tbody>\n",
       "    <tr>\n",
       "      <th>0</th>\n",
       "      <td>LP001002</td>\n",
       "      <td>Male</td>\n",
       "      <td>No</td>\n",
       "      <td>0</td>\n",
       "      <td>Graduate</td>\n",
       "      <td>No</td>\n",
       "      <td>5849</td>\n",
       "      <td>0.0</td>\n",
       "      <td>NaN</td>\n",
       "      <td>360.0</td>\n",
       "      <td>1.0</td>\n",
       "      <td>Urban</td>\n",
       "      <td>Y</td>\n",
       "    </tr>\n",
       "    <tr>\n",
       "      <th>1</th>\n",
       "      <td>LP001003</td>\n",
       "      <td>Male</td>\n",
       "      <td>Yes</td>\n",
       "      <td>1</td>\n",
       "      <td>Graduate</td>\n",
       "      <td>No</td>\n",
       "      <td>4583</td>\n",
       "      <td>1508.0</td>\n",
       "      <td>128.0</td>\n",
       "      <td>360.0</td>\n",
       "      <td>1.0</td>\n",
       "      <td>Rural</td>\n",
       "      <td>N</td>\n",
       "    </tr>\n",
       "    <tr>\n",
       "      <th>2</th>\n",
       "      <td>LP001005</td>\n",
       "      <td>Male</td>\n",
       "      <td>Yes</td>\n",
       "      <td>0</td>\n",
       "      <td>Graduate</td>\n",
       "      <td>Yes</td>\n",
       "      <td>3000</td>\n",
       "      <td>0.0</td>\n",
       "      <td>66.0</td>\n",
       "      <td>360.0</td>\n",
       "      <td>1.0</td>\n",
       "      <td>Urban</td>\n",
       "      <td>Y</td>\n",
       "    </tr>\n",
       "    <tr>\n",
       "      <th>3</th>\n",
       "      <td>LP001006</td>\n",
       "      <td>Male</td>\n",
       "      <td>Yes</td>\n",
       "      <td>0</td>\n",
       "      <td>Not Graduate</td>\n",
       "      <td>No</td>\n",
       "      <td>2583</td>\n",
       "      <td>2358.0</td>\n",
       "      <td>120.0</td>\n",
       "      <td>360.0</td>\n",
       "      <td>1.0</td>\n",
       "      <td>Urban</td>\n",
       "      <td>Y</td>\n",
       "    </tr>\n",
       "    <tr>\n",
       "      <th>4</th>\n",
       "      <td>LP001008</td>\n",
       "      <td>Male</td>\n",
       "      <td>No</td>\n",
       "      <td>0</td>\n",
       "      <td>Graduate</td>\n",
       "      <td>No</td>\n",
       "      <td>6000</td>\n",
       "      <td>0.0</td>\n",
       "      <td>141.0</td>\n",
       "      <td>360.0</td>\n",
       "      <td>1.0</td>\n",
       "      <td>Urban</td>\n",
       "      <td>Y</td>\n",
       "    </tr>\n",
       "  </tbody>\n",
       "</table>\n",
       "</div>"
      ],
      "text/plain": [
       "    Loan_ID Gender Married Dependents     Education Self_Employed  \\\n",
       "0  LP001002   Male      No          0      Graduate            No   \n",
       "1  LP001003   Male     Yes          1      Graduate            No   \n",
       "2  LP001005   Male     Yes          0      Graduate           Yes   \n",
       "3  LP001006   Male     Yes          0  Not Graduate            No   \n",
       "4  LP001008   Male      No          0      Graduate            No   \n",
       "\n",
       "   ApplicantIncome  CoapplicantIncome  LoanAmount  Loan_Amount_Term  \\\n",
       "0             5849                0.0         NaN             360.0   \n",
       "1             4583             1508.0       128.0             360.0   \n",
       "2             3000                0.0        66.0             360.0   \n",
       "3             2583             2358.0       120.0             360.0   \n",
       "4             6000                0.0       141.0             360.0   \n",
       "\n",
       "   Credit_History Property_Area Loan_Status  \n",
       "0             1.0         Urban           Y  \n",
       "1             1.0         Rural           N  \n",
       "2             1.0         Urban           Y  \n",
       "3             1.0         Urban           Y  \n",
       "4             1.0         Urban           Y  "
      ]
     },
     "execution_count": 28,
     "metadata": {},
     "output_type": "execute_result"
    }
   ],
   "source": [
    "dtr.head()"
   ]
  },
  {
   "cell_type": "code",
   "execution_count": 29,
   "id": "2e09e505",
   "metadata": {
    "collapsed": true
   },
   "outputs": [
    {
     "data": {
      "text/html": [
       "<div>\n",
       "<style scoped>\n",
       "    .dataframe tbody tr th:only-of-type {\n",
       "        vertical-align: middle;\n",
       "    }\n",
       "\n",
       "    .dataframe tbody tr th {\n",
       "        vertical-align: top;\n",
       "    }\n",
       "\n",
       "    .dataframe thead th {\n",
       "        text-align: right;\n",
       "    }\n",
       "</style>\n",
       "<table border=\"1\" class=\"dataframe\">\n",
       "  <thead>\n",
       "    <tr style=\"text-align: right;\">\n",
       "      <th></th>\n",
       "      <th>Loan_ID</th>\n",
       "      <th>Gender</th>\n",
       "      <th>Married</th>\n",
       "      <th>Dependents</th>\n",
       "      <th>Education</th>\n",
       "      <th>Self_Employed</th>\n",
       "      <th>ApplicantIncome</th>\n",
       "      <th>CoapplicantIncome</th>\n",
       "      <th>LoanAmount</th>\n",
       "      <th>Loan_Amount_Term</th>\n",
       "      <th>Credit_History</th>\n",
       "      <th>Property_Area</th>\n",
       "    </tr>\n",
       "  </thead>\n",
       "  <tbody>\n",
       "    <tr>\n",
       "      <th>0</th>\n",
       "      <td>LP001015</td>\n",
       "      <td>Male</td>\n",
       "      <td>Yes</td>\n",
       "      <td>0</td>\n",
       "      <td>Graduate</td>\n",
       "      <td>No</td>\n",
       "      <td>5720</td>\n",
       "      <td>0</td>\n",
       "      <td>110.0</td>\n",
       "      <td>360.0</td>\n",
       "      <td>1.0</td>\n",
       "      <td>Urban</td>\n",
       "    </tr>\n",
       "    <tr>\n",
       "      <th>1</th>\n",
       "      <td>LP001022</td>\n",
       "      <td>Male</td>\n",
       "      <td>Yes</td>\n",
       "      <td>1</td>\n",
       "      <td>Graduate</td>\n",
       "      <td>No</td>\n",
       "      <td>3076</td>\n",
       "      <td>1500</td>\n",
       "      <td>126.0</td>\n",
       "      <td>360.0</td>\n",
       "      <td>1.0</td>\n",
       "      <td>Urban</td>\n",
       "    </tr>\n",
       "    <tr>\n",
       "      <th>2</th>\n",
       "      <td>LP001031</td>\n",
       "      <td>Male</td>\n",
       "      <td>Yes</td>\n",
       "      <td>2</td>\n",
       "      <td>Graduate</td>\n",
       "      <td>No</td>\n",
       "      <td>5000</td>\n",
       "      <td>1800</td>\n",
       "      <td>208.0</td>\n",
       "      <td>360.0</td>\n",
       "      <td>1.0</td>\n",
       "      <td>Urban</td>\n",
       "    </tr>\n",
       "    <tr>\n",
       "      <th>3</th>\n",
       "      <td>LP001035</td>\n",
       "      <td>Male</td>\n",
       "      <td>Yes</td>\n",
       "      <td>2</td>\n",
       "      <td>Graduate</td>\n",
       "      <td>No</td>\n",
       "      <td>2340</td>\n",
       "      <td>2546</td>\n",
       "      <td>100.0</td>\n",
       "      <td>360.0</td>\n",
       "      <td>NaN</td>\n",
       "      <td>Urban</td>\n",
       "    </tr>\n",
       "    <tr>\n",
       "      <th>4</th>\n",
       "      <td>LP001051</td>\n",
       "      <td>Male</td>\n",
       "      <td>No</td>\n",
       "      <td>0</td>\n",
       "      <td>Not Graduate</td>\n",
       "      <td>No</td>\n",
       "      <td>3276</td>\n",
       "      <td>0</td>\n",
       "      <td>78.0</td>\n",
       "      <td>360.0</td>\n",
       "      <td>1.0</td>\n",
       "      <td>Urban</td>\n",
       "    </tr>\n",
       "  </tbody>\n",
       "</table>\n",
       "</div>"
      ],
      "text/plain": [
       "    Loan_ID Gender Married Dependents     Education Self_Employed  \\\n",
       "0  LP001015   Male     Yes          0      Graduate            No   \n",
       "1  LP001022   Male     Yes          1      Graduate            No   \n",
       "2  LP001031   Male     Yes          2      Graduate            No   \n",
       "3  LP001035   Male     Yes          2      Graduate            No   \n",
       "4  LP001051   Male      No          0  Not Graduate            No   \n",
       "\n",
       "   ApplicantIncome  CoapplicantIncome  LoanAmount  Loan_Amount_Term  \\\n",
       "0             5720                  0       110.0             360.0   \n",
       "1             3076               1500       126.0             360.0   \n",
       "2             5000               1800       208.0             360.0   \n",
       "3             2340               2546       100.0             360.0   \n",
       "4             3276                  0        78.0             360.0   \n",
       "\n",
       "   Credit_History Property_Area  \n",
       "0             1.0         Urban  \n",
       "1             1.0         Urban  \n",
       "2             1.0         Urban  \n",
       "3             NaN         Urban  \n",
       "4             1.0         Urban  "
      ]
     },
     "execution_count": 29,
     "metadata": {},
     "output_type": "execute_result"
    }
   ],
   "source": [
    "dte.head()"
   ]
  },
  {
   "cell_type": "code",
   "execution_count": null,
   "id": "c768a356",
   "metadata": {
    "collapsed": true
   },
   "outputs": [],
   "source": [
    "# moving on to data pre-processing"
   ]
  },
  {
   "cell_type": "code",
   "execution_count": 30,
   "id": "9c600c60",
   "metadata": {
    "collapsed": true
   },
   "outputs": [
    {
     "name": "stdout",
     "output_type": "stream",
     "text": [
      "Training Set (row, col): (614, 13)\n",
      "\n",
      "Testing Set (row, col): (367, 12)\n"
     ]
    }
   ],
   "source": [
    "print(f\"Training Set (row, col): {dtr.shape}\\n\\nTesting Set (row, col): {dte.shape}\")"
   ]
  },
  {
   "cell_type": "code",
   "execution_count": 31,
   "id": "92237475",
   "metadata": {
    "collapsed": true
   },
   "outputs": [
    {
     "name": "stdout",
     "output_type": "stream",
     "text": [
      "<class 'pandas.core.frame.DataFrame'>\n",
      "RangeIndex: 614 entries, 0 to 613\n",
      "Data columns (total 13 columns):\n",
      " #   Column             Non-Null Count  Dtype  \n",
      "---  ------             --------------  -----  \n",
      " 0   Loan_ID            614 non-null    object \n",
      " 1   Gender             601 non-null    object \n",
      " 2   Married            611 non-null    object \n",
      " 3   Dependents         599 non-null    object \n",
      " 4   Education          614 non-null    object \n",
      " 5   Self_Employed      582 non-null    object \n",
      " 6   ApplicantIncome    614 non-null    int64  \n",
      " 7   CoapplicantIncome  614 non-null    float64\n",
      " 8   LoanAmount         592 non-null    float64\n",
      " 9   Loan_Amount_Term   600 non-null    float64\n",
      " 10  Credit_History     564 non-null    float64\n",
      " 11  Property_Area      614 non-null    object \n",
      " 12  Loan_Status        614 non-null    object \n",
      "dtypes: float64(4), int64(1), object(8)\n",
      "memory usage: 62.5+ KB\n"
     ]
    }
   ],
   "source": [
    "dtr.info(verbose=True, null_counts=True)"
   ]
  },
  {
   "cell_type": "code",
   "execution_count": 32,
   "id": "82d914c7",
   "metadata": {
    "collapsed": true
   },
   "outputs": [
    {
     "name": "stdout",
     "output_type": "stream",
     "text": [
      "<class 'pandas.core.frame.DataFrame'>\n",
      "RangeIndex: 367 entries, 0 to 366\n",
      "Data columns (total 12 columns):\n",
      " #   Column             Non-Null Count  Dtype  \n",
      "---  ------             --------------  -----  \n",
      " 0   Loan_ID            367 non-null    object \n",
      " 1   Gender             356 non-null    object \n",
      " 2   Married            367 non-null    object \n",
      " 3   Dependents         357 non-null    object \n",
      " 4   Education          367 non-null    object \n",
      " 5   Self_Employed      344 non-null    object \n",
      " 6   ApplicantIncome    367 non-null    int64  \n",
      " 7   CoapplicantIncome  367 non-null    int64  \n",
      " 8   LoanAmount         362 non-null    float64\n",
      " 9   Loan_Amount_Term   361 non-null    float64\n",
      " 10  Credit_History     338 non-null    float64\n",
      " 11  Property_Area      367 non-null    object \n",
      "dtypes: float64(3), int64(2), object(7)\n",
      "memory usage: 34.5+ KB\n"
     ]
    }
   ],
   "source": [
    "dte.info()"
   ]
  },
  {
   "cell_type": "code",
   "execution_count": null,
   "id": "275909f0",
   "metadata": {
    "collapsed": true
   },
   "outputs": [],
   "source": [
    "# as 'Loan_ID' is not needed we will drop it"
   ]
  },
  {
   "cell_type": "code",
   "execution_count": 33,
   "id": "c2f9fda3",
   "metadata": {
    "collapsed": true
   },
   "outputs": [],
   "source": [
    "dtr.drop('Loan_ID', axis = 1, inplace=True)\n",
    "dte.drop('Loan_ID', axis = 1, inplace=True)"
   ]
  },
  {
   "cell_type": "code",
   "execution_count": 34,
   "id": "443b73b7",
   "metadata": {
    "collapsed": true
   },
   "outputs": [
    {
     "name": "stdout",
     "output_type": "stream",
     "text": [
      "Training Set (row, col): (614, 12)\n",
      "\n",
      "Testing Set (row, col): (367, 11)\n"
     ]
    }
   ],
   "source": [
    "#checking new size\n",
    "\n",
    "print(f\"Training Set (row, col): {dtr.shape}\\n\\nTesting Set (row, col): {dte.shape}\")"
   ]
  },
  {
   "cell_type": "code",
   "execution_count": 36,
   "id": "c348baf2",
   "metadata": {
    "collapsed": true
   },
   "outputs": [
    {
     "data": {
      "text/plain": [
       "Credit_History       50\n",
       "Self_Employed        32\n",
       "LoanAmount           22\n",
       "Dependents           15\n",
       "Loan_Amount_Term     14\n",
       "Gender               13\n",
       "Married               3\n",
       "Education             0\n",
       "ApplicantIncome       0\n",
       "CoapplicantIncome     0\n",
       "Property_Area         0\n",
       "Loan_Status           0\n",
       "dtype: int64"
      ]
     },
     "execution_count": 36,
     "metadata": {},
     "output_type": "execute_result"
    }
   ],
   "source": [
    "dtr.isnull().sum().sort_values(ascending=False)"
   ]
  },
  {
   "cell_type": "code",
   "execution_count": 37,
   "id": "d37f5726",
   "metadata": {
    "collapsed": true
   },
   "outputs": [
    {
     "data": {
      "text/plain": [
       "Credit_History       29\n",
       "Self_Employed        23\n",
       "Gender               11\n",
       "Dependents           10\n",
       "Loan_Amount_Term      6\n",
       "LoanAmount            5\n",
       "Married               0\n",
       "Education             0\n",
       "ApplicantIncome       0\n",
       "CoapplicantIncome     0\n",
       "Property_Area         0\n",
       "dtype: int64"
      ]
     },
     "execution_count": 37,
     "metadata": {},
     "output_type": "execute_result"
    }
   ],
   "source": [
    "dte.isnull().sum().sort_values(ascending=False)"
   ]
  },
  {
   "cell_type": "code",
   "execution_count": 38,
   "id": "4a444b84",
   "metadata": {
    "collapsed": true
   },
   "outputs": [
    {
     "data": {
      "text/html": [
       "<div>\n",
       "<style scoped>\n",
       "    .dataframe tbody tr th:only-of-type {\n",
       "        vertical-align: middle;\n",
       "    }\n",
       "\n",
       "    .dataframe tbody tr th {\n",
       "        vertical-align: top;\n",
       "    }\n",
       "\n",
       "    .dataframe thead th {\n",
       "        text-align: right;\n",
       "    }\n",
       "</style>\n",
       "<table border=\"1\" class=\"dataframe\">\n",
       "  <thead>\n",
       "    <tr style=\"text-align: right;\">\n",
       "      <th></th>\n",
       "      <th>ApplicantIncome</th>\n",
       "      <th>CoapplicantIncome</th>\n",
       "      <th>LoanAmount</th>\n",
       "      <th>Loan_Amount_Term</th>\n",
       "      <th>Credit_History</th>\n",
       "    </tr>\n",
       "  </thead>\n",
       "  <tbody>\n",
       "    <tr>\n",
       "      <th>count</th>\n",
       "      <td>614.000000</td>\n",
       "      <td>614.000000</td>\n",
       "      <td>592.000000</td>\n",
       "      <td>600.00000</td>\n",
       "      <td>564.000000</td>\n",
       "    </tr>\n",
       "    <tr>\n",
       "      <th>mean</th>\n",
       "      <td>5403.459283</td>\n",
       "      <td>1621.245798</td>\n",
       "      <td>146.412162</td>\n",
       "      <td>342.00000</td>\n",
       "      <td>0.842199</td>\n",
       "    </tr>\n",
       "    <tr>\n",
       "      <th>std</th>\n",
       "      <td>6109.041673</td>\n",
       "      <td>2926.248369</td>\n",
       "      <td>85.587325</td>\n",
       "      <td>65.12041</td>\n",
       "      <td>0.364878</td>\n",
       "    </tr>\n",
       "    <tr>\n",
       "      <th>min</th>\n",
       "      <td>150.000000</td>\n",
       "      <td>0.000000</td>\n",
       "      <td>9.000000</td>\n",
       "      <td>12.00000</td>\n",
       "      <td>0.000000</td>\n",
       "    </tr>\n",
       "    <tr>\n",
       "      <th>25%</th>\n",
       "      <td>2877.500000</td>\n",
       "      <td>0.000000</td>\n",
       "      <td>100.000000</td>\n",
       "      <td>360.00000</td>\n",
       "      <td>1.000000</td>\n",
       "    </tr>\n",
       "    <tr>\n",
       "      <th>50%</th>\n",
       "      <td>3812.500000</td>\n",
       "      <td>1188.500000</td>\n",
       "      <td>128.000000</td>\n",
       "      <td>360.00000</td>\n",
       "      <td>1.000000</td>\n",
       "    </tr>\n",
       "    <tr>\n",
       "      <th>75%</th>\n",
       "      <td>5795.000000</td>\n",
       "      <td>2297.250000</td>\n",
       "      <td>168.000000</td>\n",
       "      <td>360.00000</td>\n",
       "      <td>1.000000</td>\n",
       "    </tr>\n",
       "    <tr>\n",
       "      <th>max</th>\n",
       "      <td>81000.000000</td>\n",
       "      <td>41667.000000</td>\n",
       "      <td>700.000000</td>\n",
       "      <td>480.00000</td>\n",
       "      <td>1.000000</td>\n",
       "    </tr>\n",
       "  </tbody>\n",
       "</table>\n",
       "</div>"
      ],
      "text/plain": [
       "       ApplicantIncome  CoapplicantIncome  LoanAmount  Loan_Amount_Term  \\\n",
       "count       614.000000         614.000000  592.000000         600.00000   \n",
       "mean       5403.459283        1621.245798  146.412162         342.00000   \n",
       "std        6109.041673        2926.248369   85.587325          65.12041   \n",
       "min         150.000000           0.000000    9.000000          12.00000   \n",
       "25%        2877.500000           0.000000  100.000000         360.00000   \n",
       "50%        3812.500000        1188.500000  128.000000         360.00000   \n",
       "75%        5795.000000        2297.250000  168.000000         360.00000   \n",
       "max       81000.000000       41667.000000  700.000000         480.00000   \n",
       "\n",
       "       Credit_History  \n",
       "count      564.000000  \n",
       "mean         0.842199  \n",
       "std          0.364878  \n",
       "min          0.000000  \n",
       "25%          1.000000  \n",
       "50%          1.000000  \n",
       "75%          1.000000  \n",
       "max          1.000000  "
      ]
     },
     "execution_count": 38,
     "metadata": {},
     "output_type": "execute_result"
    }
   ],
   "source": [
    "dtr.describe()"
   ]
  },
  {
   "cell_type": "code",
   "execution_count": null,
   "id": "98a9295f",
   "metadata": {
    "collapsed": true
   },
   "outputs": [],
   "source": [
    "# Each value will be replaced by the most frequent value (mode).\n",
    "# For example: Credit_History has 50 null values and has 2 unique values 1.0 (475 times) or 0.0 (89 times) \n",
    "#therefore each null value will be replaced by the mode 1.0 so now it will show in our data 525 times."
   ]
  },
  {
   "cell_type": "code",
   "execution_count": 46,
   "id": "6c61274f",
   "metadata": {
    "collapsed": true
   },
   "outputs": [
    {
     "name": "stdout",
     "output_type": "stream",
     "text": [
      "After filling missing values:\n",
      "\n",
      "Credit_History:\n",
      "1.0    525\n",
      "0.0     89\n",
      "Name: Credit_History, dtype: int64\n",
      " --------------------------------------------------\n",
      "\n",
      "Self_Employed:\n",
      "No     532\n",
      "Yes     82\n",
      "Name: Self_Employed, dtype: int64\n",
      " --------------------------------------------------\n",
      "\n",
      "LoanAmount:\n",
      "120.0    42\n",
      "110.0    17\n",
      "100.0    15\n",
      "160.0    12\n",
      "187.0    12\n",
      "         ..\n",
      "211.0     1\n",
      "250.0     1\n",
      "62.0      1\n",
      "85.0      1\n",
      "436.0     1\n",
      "Name: LoanAmount, Length: 203, dtype: int64\n",
      " --------------------------------------------------\n",
      "\n",
      "Dependents:\n",
      "0     360\n",
      "1     102\n",
      "2     101\n",
      "3+     51\n",
      "Name: Dependents, dtype: int64\n",
      " --------------------------------------------------\n",
      "\n",
      "Loan_Amount_Term:\n",
      "360.0    526\n",
      "180.0     44\n",
      "480.0     15\n",
      "300.0     13\n",
      "84.0       4\n",
      "240.0      4\n",
      "120.0      3\n",
      "36.0       2\n",
      "60.0       2\n",
      "12.0       1\n",
      "Name: Loan_Amount_Term, dtype: int64\n",
      " --------------------------------------------------\n",
      "\n",
      "Gender:\n",
      "Male      502\n",
      "Female    112\n",
      "Name: Gender, dtype: int64\n",
      " --------------------------------------------------\n",
      "\n",
      "Married:\n",
      "Yes    401\n",
      "No     213\n",
      "Name: Married, dtype: int64\n",
      " --------------------------------------------------\n"
     ]
    }
   ],
   "source": [
    "null_cols = ['Credit_History', 'Self_Employed', 'LoanAmount','Dependents', 'Loan_Amount_Term', 'Gender', 'Married']\n",
    "\n",
    "for col in null_cols:\n",
    "    dtr[col] = dtr[col].fillna(dtr[col].dropna().mode().values[0])\n",
    "\n",
    "dtr.isnull().sum().sort_values(ascending=False)\n",
    "print(\"After filling missing values:\")\n",
    "for col in null_cols:\n",
    "    print(f\"\\n{col}:\\n{dtr[col].value_counts()}\\n\",\"-\"*50)"
   ]
  },
  {
   "cell_type": "code",
   "execution_count": null,
   "id": "c5bf068d",
   "metadata": {
    "collapsed": true
   },
   "outputs": [],
   "source": [
    "# data visualization"
   ]
  },
  {
   "cell_type": "code",
   "execution_count": 47,
   "id": "b35bf486",
   "metadata": {
    "collapsed": true
   },
   "outputs": [],
   "source": [
    "# creating a list of all numeric values in the dataset\n",
    "numeric = dtr.select_dtypes('number').columns.to_list()\n",
    "\n",
    "# creating a list of all categorical values in the dataset\n",
    "categorical = dtr.select_dtypes('object').columns.to_list()\n",
    "\n",
    "lnum = dtr[numeric]\n",
    "lcat = dtr[categorical]"
   ]
  },
  {
   "cell_type": "code",
   "execution_count": 64,
   "id": "193bf4a5",
   "metadata": {
    "collapsed": true
   },
   "outputs": [
    {
     "name": "stdout",
     "output_type": "stream",
     "text": [
      "Y    422\n",
      "N    192\n",
      "Name: Loan_Status, dtype: int64\n"
     ]
    },
    {
     "data": {
      "image/png": "[encoded data removed]",
      "text/plain": [
       "<Figure size 288x432 with 1 Axes>"
      ]
     },
     "metadata": {},
     "output_type": "display_data"
    }
   ],
   "source": [
    "# [-1] prints last element of the sequence\n",
    "# value_counts returns a series containing counts of unique values\n",
    "\n",
    "print(dtr[categorical[-1]].value_counts())\n",
    "\n",
    "total = float(len(dtr[categorical[-1]]))\n",
    "plt.figure(figsize=(4,6)) # figsize is a tuple of the width and height of the figure in inches\n",
    "sns.set(style=\"whitegrid\")\n",
    "\n",
    "# A count plot can be thought of as a histogram across a categorical, instead of quantitative, variable.\n",
    "ax = sns.countplot(dtr[categorical[-1]], palette='Set3') \n",
    "\n",
    "for p in ax.patches:         # Patches are arbitrary two dimensional regions\n",
    "    height = p.get_height()\n",
    "    width = p.get_width()\n",
    "    ax.text(p.get_x()+width/2.,height + 3,'{:1.2f}'.format(height/total), ha=\"center\") \n",
    "    \n",
    "    # get_x() : returns abscissa of current position\n",
    "    # {:1.2f} : returns value upto 2 decimal places, hence we're formatting (height/total) value to 2 decimal places\n",
    "    \n",
    "plt.show()"
   ]
  },
  {
   "cell_type": "code",
   "execution_count": 63,
   "id": "27e79320",
   "metadata": {
    "collapsed": true
   },
   "outputs": [
    {
     "data": {
      "image/png": "[encoded data removed]",
      "text/plain": [
       "<Figure size 432x288 with 1 Axes>"
      ]
     },
     "metadata": {},
     "output_type": "display_data"
    },
    {
     "data": {
      "image/png": "[encoded data removed]",
      "text/plain": [
       "<Figure size 432x288 with 1 Axes>"
      ]
     },
     "metadata": {},
     "output_type": "display_data"
    },
    {
     "data": {
      "image/png": "[encoded data removed]",
      "text/plain": [
       "<Figure size 432x288 with 1 Axes>"
      ]
     },
     "metadata": {},
     "output_type": "display_data"
    },
    {
     "data": {
      "image/png": "[encoded data removed]",
      "text/plain": [
       "<Figure size 432x288 with 1 Axes>"
      ]
     },
     "metadata": {},
     "output_type": "display_data"
    },
    {
     "data": {
      "image/png": "[encoded data removed]",
      "text/plain": [
       "<Figure size 432x288 with 1 Axes>"
      ]
     },
     "metadata": {},
     "output_type": "display_data"
    }
   ],
   "source": [
    "# Plot data\n",
    "\n",
    "# numeric: \n",
    "for i in lnum:\n",
    "    plt.hist(lnum[i], color='pink')\n",
    "    plt.title(i)\n",
    "    plt.show()"
   ]
  },
  {
   "cell_type": "code",
   "execution_count": 65,
   "id": "9b2d3e77",
   "metadata": {
    "collapsed": true
   },
   "outputs": [
    {
     "data": {
      "image/png": "[encoded data removed]",
      "text/plain": [
       "<Figure size 1080x720 with 1 Axes>"
      ]
     },
     "metadata": {},
     "output_type": "display_data"
    },
    {
     "data": {
      "image/png": "[encoded data removed]",
      "text/plain": [
       "<Figure size 1080x720 with 1 Axes>"
      ]
     },
     "metadata": {},
     "output_type": "display_data"
    },
    {
     "data": {
      "image/png": "[encoded data removed]",
      "text/plain": [
       "<Figure size 1080x720 with 1 Axes>"
      ]
     },
     "metadata": {},
     "output_type": "display_data"
    },
    {
     "data": {
      "image/png": "[encoded data removed]",
      "text/plain": [
       "<Figure size 1080x720 with 1 Axes>"
      ]
     },
     "metadata": {},
     "output_type": "display_data"
    },
    {
     "data": {
      "image/png": "[encoded data removed]",
      "text/plain": [
       "<Figure size 1080x720 with 1 Axes>"
      ]
     },
     "metadata": {},
     "output_type": "display_data"
    },
    {
     "data": {
      "image/png": "[encoded data removed]",
      "text/plain": [
       "<Figure size 1080x720 with 1 Axes>"
      ]
     },
     "metadata": {},
     "output_type": "display_data"
    }
   ],
   "source": [
    "# categorical(split by loan status)\n",
    "\n",
    "for i in categorical[:-1]:\n",
    "    plt.figure(figsize=(15,10))\n",
    "    plt.subplot(2,3,1)\n",
    "    sns.countplot(x=i ,hue='Loan_Status', data=dtr ,palette='pastel')\n",
    "    plt.xlabel(i, fontsize=14)\n"
   ]
  },
  {
   "cell_type": "code",
   "execution_count": 77,
   "id": "3fe784b0",
   "metadata": {
    "collapsed": true
   },
   "outputs": [
    {
     "name": "stdout",
     "output_type": "stream",
     "text": [
      "Training Set (row, col): (614, 12)\n",
      "\n",
      "Testing Set (row, col): (614, 12)\n",
      "\n",
      "<class 'pandas.core.frame.DataFrame'>\n",
      "RangeIndex: 614 entries, 0 to 613\n",
      "Data columns (total 12 columns):\n",
      " #   Column             Non-Null Count  Dtype  \n",
      "---  ------             --------------  -----  \n",
      " 0   Gender             614 non-null    int64  \n",
      " 1   Married            614 non-null    int64  \n",
      " 2   Education          614 non-null    int64  \n",
      " 3   Self_Employed      614 non-null    int64  \n",
      " 4   ApplicantIncome    614 non-null    int64  \n",
      " 5   CoapplicantIncome  614 non-null    float64\n",
      " 6   LoanAmount         614 non-null    float64\n",
      " 7   Loan_Amount_Term   614 non-null    float64\n",
      " 8   Credit_History     614 non-null    float64\n",
      " 9   Property_Area      614 non-null    int64  \n",
      " 10  Loan_Status        614 non-null    int64  \n",
      " 11  Dependents         614 non-null    int64  \n",
      "dtypes: float64(4), int64(8)\n",
      "memory usage: 57.7 KB\n",
      "None\n",
      "\n",
      "\n",
      "<class 'pandas.core.frame.DataFrame'>\n",
      "RangeIndex: 367 entries, 0 to 366\n",
      "Data columns (total 11 columns):\n",
      " #   Column             Non-Null Count  Dtype  \n",
      "---  ------             --------------  -----  \n",
      " 0   Gender             356 non-null    float64\n",
      " 1   Married            367 non-null    int64  \n",
      " 2   Education          367 non-null    int64  \n",
      " 3   Self_Employed      344 non-null    float64\n",
      " 4   ApplicantIncome    367 non-null    int64  \n",
      " 5   CoapplicantIncome  367 non-null    int64  \n",
      " 6   LoanAmount         362 non-null    float64\n",
      " 7   Loan_Amount_Term   361 non-null    float64\n",
      " 8   Credit_History     338 non-null    float64\n",
      " 9   Property_Area      367 non-null    int64  \n",
      " 10  Dependents         357 non-null    float64\n",
      "dtypes: float64(6), int64(5)\n",
      "memory usage: 31.7 KB\n",
      "None\n"
     ]
    }
   ],
   "source": [
    "# encoding data to numeric\n",
    "\n",
    "to_numeric = {'Male': 1, 'Female': 2, 'Yes': 1, 'No': 2, 'Graduate': 1, 'Not Graduate': 2, 'Urban': 3, \n",
    "              'Semiurban': 2,'Rural': 1,'Y': 1, 'N': 0, '3+': 3}\n",
    "\n",
    "# adding the new numeric values from the to_numeric variable to both datasets\n",
    "# .applymap() method applies a function that accepts and returns a scalar to every element of a DataFrame\n",
    "# lambda is a function in python that accepts any no. of arguments but can have only one expression\n",
    "\n",
    "dtr = dtr.applymap(lambda lable: to_numeric.get(lable) if lable in to_numeric else lable)\n",
    "dte = dte.applymap(lambda lable: to_numeric.get(lable) if lable in to_numeric else lable)\n",
    "\n",
    "# converting the dependents column\n",
    "Dependents_ = pd.to_numeric(dtr.Dependents)\n",
    "Dependents__ = pd.to_numeric(dte.Dependents)\n",
    "\n",
    "# dropping previous dependents column\n",
    "dtr.drop(['Dependents'], axis=1, inplace=True)\n",
    "dte.drop(['Dependents'], axis=1, inplace=True)\n",
    "\n",
    "# concatenating new dependents column with both the datasets\n",
    "dtr = pd.concat([dtr, Dependents_], axis=1)\n",
    "dte = pd.concat([dte, Dependents__], axis=1)\n",
    "\n",
    "print(f\"Training Set (row, col): {dtr.shape}\\n\\nTesting Set (row, col): {dtr.shape}\\n\")\n",
    "print(dtr.info())\n",
    "print(\"\\n\")\n",
    "print(dte.info())"
   ]
  },
  {
   "cell_type": "code",
   "execution_count": 78,
   "id": "d52c22aa",
   "metadata": {
    "collapsed": true
   },
   "outputs": [
    {
     "data": {
      "text/html": [
       "<div>\n",
       "<style scoped>\n",
       "    .dataframe tbody tr th:only-of-type {\n",
       "        vertical-align: middle;\n",
       "    }\n",
       "\n",
       "    .dataframe tbody tr th {\n",
       "        vertical-align: top;\n",
       "    }\n",
       "\n",
       "    .dataframe thead th {\n",
       "        text-align: right;\n",
       "    }\n",
       "</style>\n",
       "<table border=\"1\" class=\"dataframe\">\n",
       "  <thead>\n",
       "    <tr style=\"text-align: right;\">\n",
       "      <th></th>\n",
       "      <th>Gender</th>\n",
       "      <th>Married</th>\n",
       "      <th>Education</th>\n",
       "      <th>Self_Employed</th>\n",
       "      <th>ApplicantIncome</th>\n",
       "      <th>CoapplicantIncome</th>\n",
       "      <th>LoanAmount</th>\n",
       "      <th>Loan_Amount_Term</th>\n",
       "      <th>Credit_History</th>\n",
       "      <th>Property_Area</th>\n",
       "      <th>Loan_Status</th>\n",
       "      <th>Dependents</th>\n",
       "    </tr>\n",
       "  </thead>\n",
       "  <tbody>\n",
       "    <tr>\n",
       "      <th>0</th>\n",
       "      <td>1</td>\n",
       "      <td>2</td>\n",
       "      <td>1</td>\n",
       "      <td>2</td>\n",
       "      <td>5849</td>\n",
       "      <td>0.0</td>\n",
       "      <td>120.0</td>\n",
       "      <td>360.0</td>\n",
       "      <td>1.0</td>\n",
       "      <td>3</td>\n",
       "      <td>1</td>\n",
       "      <td>0</td>\n",
       "    </tr>\n",
       "    <tr>\n",
       "      <th>1</th>\n",
       "      <td>1</td>\n",
       "      <td>1</td>\n",
       "      <td>1</td>\n",
       "      <td>2</td>\n",
       "      <td>4583</td>\n",
       "      <td>1508.0</td>\n",
       "      <td>128.0</td>\n",
       "      <td>360.0</td>\n",
       "      <td>1.0</td>\n",
       "      <td>1</td>\n",
       "      <td>0</td>\n",
       "      <td>1</td>\n",
       "    </tr>\n",
       "    <tr>\n",
       "      <th>2</th>\n",
       "      <td>1</td>\n",
       "      <td>1</td>\n",
       "      <td>1</td>\n",
       "      <td>1</td>\n",
       "      <td>3000</td>\n",
       "      <td>0.0</td>\n",
       "      <td>66.0</td>\n",
       "      <td>360.0</td>\n",
       "      <td>1.0</td>\n",
       "      <td>3</td>\n",
       "      <td>1</td>\n",
       "      <td>0</td>\n",
       "    </tr>\n",
       "    <tr>\n",
       "      <th>3</th>\n",
       "      <td>1</td>\n",
       "      <td>1</td>\n",
       "      <td>2</td>\n",
       "      <td>2</td>\n",
       "      <td>2583</td>\n",
       "      <td>2358.0</td>\n",
       "      <td>120.0</td>\n",
       "      <td>360.0</td>\n",
       "      <td>1.0</td>\n",
       "      <td>3</td>\n",
       "      <td>1</td>\n",
       "      <td>0</td>\n",
       "    </tr>\n",
       "    <tr>\n",
       "      <th>4</th>\n",
       "      <td>1</td>\n",
       "      <td>2</td>\n",
       "      <td>1</td>\n",
       "      <td>2</td>\n",
       "      <td>6000</td>\n",
       "      <td>0.0</td>\n",
       "      <td>141.0</td>\n",
       "      <td>360.0</td>\n",
       "      <td>1.0</td>\n",
       "      <td>3</td>\n",
       "      <td>1</td>\n",
       "      <td>0</td>\n",
       "    </tr>\n",
       "  </tbody>\n",
       "</table>\n",
       "</div>"
      ],
      "text/plain": [
       "   Gender  Married  Education  Self_Employed  ApplicantIncome  \\\n",
       "0       1        2          1              2             5849   \n",
       "1       1        1          1              2             4583   \n",
       "2       1        1          1              1             3000   \n",
       "3       1        1          2              2             2583   \n",
       "4       1        2          1              2             6000   \n",
       "\n",
       "   CoapplicantIncome  LoanAmount  Loan_Amount_Term  Credit_History  \\\n",
       "0                0.0       120.0             360.0             1.0   \n",
       "1             1508.0       128.0             360.0             1.0   \n",
       "2                0.0        66.0             360.0             1.0   \n",
       "3             2358.0       120.0             360.0             1.0   \n",
       "4                0.0       141.0             360.0             1.0   \n",
       "\n",
       "   Property_Area  Loan_Status  Dependents  \n",
       "0              3            1           0  \n",
       "1              1            0           1  \n",
       "2              3            1           0  \n",
       "3              3            1           0  \n",
       "4              3            1           0  "
      ]
     },
     "execution_count": 78,
     "metadata": {},
     "output_type": "execute_result"
    }
   ],
   "source": [
    "dtr.head()"
   ]
  },
  {
   "cell_type": "code",
   "execution_count": 80,
   "id": "b6eaf8e9",
   "metadata": {
    "collapsed": true
   },
   "outputs": [
    {
     "data": {
      "text/plain": [
       "<AxesSubplot:>"
      ]
     },
     "execution_count": 80,
     "metadata": {},
     "output_type": "execute_result"
    },
    {
     "data": {
      "image/png": "[encoded data removed]",
      "text/plain": [
       "<Figure size 432x288 with 2 Axes>"
      ]
     },
     "metadata": {},
     "output_type": "display_data"
    }
   ],
   "source": [
    "# CORRELATION MATRIX\n",
    "# plotting the correlation matrix\n",
    "\n",
    "sns.heatmap(dtr.corr(), cmap = 'PiYG')"
   ]
  },
  {
   "cell_type": "code",
   "execution_count": 83,
   "id": "845b44f5",
   "metadata": {
    "collapsed": true
   },
   "outputs": [
    {
     "data": {
      "text/html": [
       "<style  type=\"text/css\" >\n",
       "#T_e9383_row0_col0,#T_e9383_row1_col1,#T_e9383_row2_col2,#T_e9383_row3_col3,#T_e9383_row4_col4,#T_e9383_row5_col5,#T_e9383_row6_col6,#T_e9383_row7_col7,#T_e9383_row8_col8,#T_e9383_row9_col9,#T_e9383_row10_col10,#T_e9383_row11_col11{\n",
       "            background-color:  #081d58;\n",
       "            color:  #f1f1f1;\n",
       "        }#T_e9383_row0_col1{\n",
       "            background-color:  #3aaec3;\n",
       "            color:  #000000;\n",
       "        }#T_e9383_row0_col2,#T_e9383_row2_col0,#T_e9383_row8_col4{\n",
       "            background-color:  #f0f9b7;\n",
       "            color:  #000000;\n",
       "        }#T_e9383_row0_col3,#T_e9383_row9_col10{\n",
       "            background-color:  #eff9b6;\n",
       "            color:  #000000;\n",
       "        }#T_e9383_row0_col4,#T_e9383_row8_col9,#T_e9383_row9_col8,#T_e9383_row10_col2,#T_e9383_row10_col7,#T_e9383_row11_col9{\n",
       "            background-color:  #f5fbc2;\n",
       "            color:  #000000;\n",
       "        }#T_e9383_row0_col5,#T_e9383_row5_col10,#T_e9383_row11_col8{\n",
       "            background-color:  #fbfdd0;\n",
       "            color:  #000000;\n",
       "        }#T_e9383_row0_col6,#T_e9383_row4_col7,#T_e9383_row4_col8,#T_e9383_row6_col10,#T_e9383_row7_col5,#T_e9383_row10_col5{\n",
       "            background-color:  #f8fcc9;\n",
       "            color:  #000000;\n",
       "        }#T_e9383_row0_col7{\n",
       "            background-color:  #e2f4b2;\n",
       "            color:  #000000;\n",
       "        }#T_e9383_row0_col8,#T_e9383_row4_col9,#T_e9383_row11_col3{\n",
       "            background-color:  #f7fcc6;\n",
       "            color:  #000000;\n",
       "        }#T_e9383_row0_col9,#T_e9383_row4_col0{\n",
       "            background-color:  #f1fabb;\n",
       "            color:  #000000;\n",
       "        }#T_e9383_row0_col10,#T_e9383_row1_col9,#T_e9383_row3_col8,#T_e9383_row6_col8{\n",
       "            background-color:  #f5fbc4;\n",
       "            color:  #000000;\n",
       "        }#T_e9383_row0_col11,#T_e9383_row3_col5,#T_e9383_row10_col4,#T_e9383_row10_col6{\n",
       "            background-color:  #eef8b3;\n",
       "            color:  #000000;\n",
       "        }#T_e9383_row1_col0{\n",
       "            background-color:  #55bec1;\n",
       "            color:  #000000;\n",
       "        }#T_e9383_row1_col2{\n",
       "            background-color:  #eaf7b1;\n",
       "            color:  #000000;\n",
       "        }#T_e9383_row1_col3,#T_e9383_row8_col3,#T_e9383_row8_col5,#T_e9383_row9_col4,#T_e9383_row9_col5,#T_e9383_row10_col3{\n",
       "            background-color:  #eff9b5;\n",
       "            color:  #000000;\n",
       "        }#T_e9383_row1_col4,#T_e9383_row5_col0{\n",
       "            background-color:  #f4fbc1;\n",
       "            color:  #000000;\n",
       "        }#T_e9383_row1_col5{\n",
       "            background-color:  #fafdce;\n",
       "            color:  #000000;\n",
       "        }#T_e9383_row1_col6,#T_e9383_row5_col4{\n",
       "            background-color:  #fcfed3;\n",
       "            color:  #000000;\n",
       "        }#T_e9383_row1_col7{\n",
       "            background-color:  #dbf1b2;\n",
       "            color:  #000000;\n",
       "        }#T_e9383_row1_col8,#T_e9383_row6_col0{\n",
       "            background-color:  #f7fcc7;\n",
       "            color:  #000000;\n",
       "        }#T_e9383_row1_col10,#T_e9383_row1_col11,#T_e9383_row2_col4,#T_e9383_row2_col6,#T_e9383_row2_col8,#T_e9383_row4_col3,#T_e9383_row4_col5,#T_e9383_row6_col2,#T_e9383_row7_col9,#T_e9383_row11_col0,#T_e9383_row11_col1,#T_e9383_row11_col7{\n",
       "            background-color:  #ffffd9;\n",
       "            color:  #000000;\n",
       "        }#T_e9383_row2_col1{\n",
       "            background-color:  #caeab4;\n",
       "            color:  #000000;\n",
       "        }#T_e9383_row2_col3,#T_e9383_row3_col7{\n",
       "            background-color:  #edf8b2;\n",
       "            color:  #000000;\n",
       "        }#T_e9383_row2_col5{\n",
       "            background-color:  #f8fcca;\n",
       "            color:  #000000;\n",
       "        }#T_e9383_row2_col7,#T_e9383_row4_col2,#T_e9383_row6_col9,#T_e9383_row9_col7{\n",
       "            background-color:  #fcfed1;\n",
       "            color:  #000000;\n",
       "        }#T_e9383_row2_col9,#T_e9383_row6_col3{\n",
       "            background-color:  #feffd6;\n",
       "            color:  #000000;\n",
       "        }#T_e9383_row2_col10{\n",
       "            background-color:  #feffd8;\n",
       "            color:  #000000;\n",
       "        }#T_e9383_row2_col11{\n",
       "            background-color:  #b0e0b6;\n",
       "            color:  #000000;\n",
       "        }#T_e9383_row3_col0,#T_e9383_row8_col6{\n",
       "            background-color:  #e7f6b1;\n",
       "            color:  #000000;\n",
       "        }#T_e9383_row3_col1,#T_e9383_row9_col11{\n",
       "            background-color:  #c6e9b4;\n",
       "            color:  #000000;\n",
       "        }#T_e9383_row3_col2{\n",
       "            background-color:  #e5f5b2;\n",
       "            color:  #000000;\n",
       "        }#T_e9383_row3_col4{\n",
       "            background-color:  #fdfed5;\n",
       "            color:  #000000;\n",
       "        }#T_e9383_row3_col6{\n",
       "            background-color:  #f9fdcb;\n",
       "            color:  #000000;\n",
       "        }#T_e9383_row3_col9,#T_e9383_row10_col9{\n",
       "            background-color:  #f1faba;\n",
       "            color:  #000000;\n",
       "        }#T_e9383_row3_col10,#T_e9383_row8_col7,#T_e9383_row9_col2{\n",
       "            background-color:  #f3fabd;\n",
       "            color:  #000000;\n",
       "        }#T_e9383_row3_col11,#T_e9383_row7_col0{\n",
       "            background-color:  #d4eeb3;\n",
       "            color:  #000000;\n",
       "        }#T_e9383_row4_col1{\n",
       "            background-color:  #d3eeb3;\n",
       "            color:  #000000;\n",
       "        }#T_e9383_row4_col6{\n",
       "            background-color:  #1d90c0;\n",
       "            color:  #000000;\n",
       "        }#T_e9383_row4_col10,#T_e9383_row5_col8,#T_e9383_row5_col9,#T_e9383_row7_col2,#T_e9383_row8_col2{\n",
       "            background-color:  #f4fbc0;\n",
       "            color:  #000000;\n",
       "        }#T_e9383_row4_col11{\n",
       "            background-color:  #95d5b9;\n",
       "            color:  #000000;\n",
       "        }#T_e9383_row5_col1,#T_e9383_row11_col2{\n",
       "            background-color:  #d9f0b3;\n",
       "            color:  #000000;\n",
       "        }#T_e9383_row5_col2,#T_e9383_row11_col10{\n",
       "            background-color:  #f2fabc;\n",
       "            color:  #000000;\n",
       "        }#T_e9383_row5_col3,#T_e9383_row6_col7{\n",
       "            background-color:  #edf8b1;\n",
       "            color:  #000000;\n",
       "        }#T_e9383_row5_col6{\n",
       "            background-color:  #a7dcb7;\n",
       "            color:  #000000;\n",
       "        }#T_e9383_row5_col7{\n",
       "            background-color:  #f9fdcc;\n",
       "            color:  #000000;\n",
       "        }#T_e9383_row5_col11{\n",
       "            background-color:  #bbe4b5;\n",
       "            color:  #000000;\n",
       "        }#T_e9383_row6_col1,#T_e9383_row7_col3{\n",
       "            background-color:  #e8f6b1;\n",
       "            color:  #000000;\n",
       "        }#T_e9383_row6_col4{\n",
       "            background-color:  #1f93c0;\n",
       "            color:  #000000;\n",
       "        }#T_e9383_row6_col5{\n",
       "            background-color:  #b9e4b5;\n",
       "            color:  #000000;\n",
       "        }#T_e9383_row6_col11{\n",
       "            background-color:  #80cebb;\n",
       "            color:  #000000;\n",
       "        }#T_e9383_row7_col1{\n",
       "            background-color:  #9cd8b8;\n",
       "            color:  #000000;\n",
       "        }#T_e9383_row7_col4{\n",
       "            background-color:  #f3fabf;\n",
       "            color:  #000000;\n",
       "        }#T_e9383_row7_col6{\n",
       "            background-color:  #ddf2b2;\n",
       "            color:  #000000;\n",
       "        }#T_e9383_row7_col8,#T_e9383_row7_col10{\n",
       "            background-color:  #f6fbc5;\n",
       "            color:  #000000;\n",
       "        }#T_e9383_row7_col11{\n",
       "            background-color:  #dff2b2;\n",
       "            color:  #000000;\n",
       "        }#T_e9383_row8_col0,#T_e9383_row9_col3{\n",
       "            background-color:  #e9f7b1;\n",
       "            color:  #000000;\n",
       "        }#T_e9383_row8_col1{\n",
       "            background-color:  #c9eab4;\n",
       "            color:  #000000;\n",
       "        }#T_e9383_row8_col10{\n",
       "            background-color:  #2a9ec1;\n",
       "            color:  #000000;\n",
       "        }#T_e9383_row8_col11{\n",
       "            background-color:  #d0edb3;\n",
       "            color:  #000000;\n",
       "        }#T_e9383_row9_col0{\n",
       "            background-color:  #e0f3b2;\n",
       "            color:  #000000;\n",
       "        }#T_e9383_row9_col1{\n",
       "            background-color:  #c8e9b4;\n",
       "            color:  #000000;\n",
       "        }#T_e9383_row9_col6{\n",
       "            background-color:  #f0f9b8;\n",
       "            color:  #000000;\n",
       "        }#T_e9383_row10_col0,#T_e9383_row11_col5{\n",
       "            background-color:  #ecf7b1;\n",
       "            color:  #000000;\n",
       "        }#T_e9383_row10_col1{\n",
       "            background-color:  #dcf1b2;\n",
       "            color:  #000000;\n",
       "        }#T_e9383_row10_col8{\n",
       "            background-color:  #2ca1c2;\n",
       "            color:  #000000;\n",
       "        }#T_e9383_row10_col11{\n",
       "            background-color:  #c2e7b4;\n",
       "            color:  #000000;\n",
       "        }#T_e9383_row11_col4{\n",
       "            background-color:  #ceecb3;\n",
       "            color:  #000000;\n",
       "        }#T_e9383_row11_col6{\n",
       "            background-color:  #b4e2b6;\n",
       "            color:  #000000;\n",
       "        }</style><table id=\"T_e9383_\" ><thead>    <tr>        <th class=\"blank level0\" ></th>        <th class=\"col_heading level0 col0\" >Gender</th>        <th class=\"col_heading level0 col1\" >Married</th>        <th class=\"col_heading level0 col2\" >Education</th>        <th class=\"col_heading level0 col3\" >Self_Employed</th>        <th class=\"col_heading level0 col4\" >ApplicantIncome</th>        <th class=\"col_heading level0 col5\" >CoapplicantIncome</th>        <th class=\"col_heading level0 col6\" >LoanAmount</th>        <th class=\"col_heading level0 col7\" >Loan_Amount_Term</th>        <th class=\"col_heading level0 col8\" >Credit_History</th>        <th class=\"col_heading level0 col9\" >Property_Area</th>        <th class=\"col_heading level0 col10\" >Loan_Status</th>        <th class=\"col_heading level0 col11\" >Dependents</th>    </tr></thead><tbody>\n",
       "                <tr>\n",
       "                        <th id=\"T_e9383_level0_row0\" class=\"row_heading level0 row0\" >Gender</th>\n",
       "                        <td id=\"T_e9383_row0_col0\" class=\"data row0 col0\" >1.00</td>\n",
       "                        <td id=\"T_e9383_row0_col1\" class=\"data row0 col1\" >0.36</td>\n",
       "                        <td id=\"T_e9383_row0_col2\" class=\"data row0 col2\" >-0.05</td>\n",
       "                        <td id=\"T_e9383_row0_col3\" class=\"data row0 col3\" >-0.00</td>\n",
       "                        <td id=\"T_e9383_row0_col4\" class=\"data row0 col4\" >-0.06</td>\n",
       "                        <td id=\"T_e9383_row0_col5\" class=\"data row0 col5\" >-0.08</td>\n",
       "                        <td id=\"T_e9383_row0_col6\" class=\"data row0 col6\" >-0.11</td>\n",
       "                        <td id=\"T_e9383_row0_col7\" class=\"data row0 col7\" >0.07</td>\n",
       "                        <td id=\"T_e9383_row0_col8\" class=\"data row0 col8\" >-0.01</td>\n",
       "                        <td id=\"T_e9383_row0_col9\" class=\"data row0 col9\" >0.03</td>\n",
       "                        <td id=\"T_e9383_row0_col10\" class=\"data row0 col10\" >-0.02</td>\n",
       "                        <td id=\"T_e9383_row0_col11\" class=\"data row0 col11\" >-0.17</td>\n",
       "            </tr>\n",
       "            <tr>\n",
       "                        <th id=\"T_e9383_level0_row1\" class=\"row_heading level0 row1\" >Married</th>\n",
       "                        <td id=\"T_e9383_row1_col0\" class=\"data row1 col0\" >0.36</td>\n",
       "                        <td id=\"T_e9383_row1_col1\" class=\"data row1 col1\" >1.00</td>\n",
       "                        <td id=\"T_e9383_row1_col2\" class=\"data row1 col2\" >-0.01</td>\n",
       "                        <td id=\"T_e9383_row1_col3\" class=\"data row1 col3\" >0.00</td>\n",
       "                        <td id=\"T_e9383_row1_col4\" class=\"data row1 col4\" >-0.05</td>\n",
       "                        <td id=\"T_e9383_row1_col5\" class=\"data row1 col5\" >-0.08</td>\n",
       "                        <td id=\"T_e9383_row1_col6\" class=\"data row1 col6\" >-0.15</td>\n",
       "                        <td id=\"T_e9383_row1_col7\" class=\"data row1 col7\" >0.10</td>\n",
       "                        <td id=\"T_e9383_row1_col8\" class=\"data row1 col8\" >-0.01</td>\n",
       "                        <td id=\"T_e9383_row1_col9\" class=\"data row1 col9\" >-0.00</td>\n",
       "                        <td id=\"T_e9383_row1_col10\" class=\"data row1 col10\" >-0.09</td>\n",
       "                        <td id=\"T_e9383_row1_col11\" class=\"data row1 col11\" >-0.33</td>\n",
       "            </tr>\n",
       "            <tr>\n",
       "                        <th id=\"T_e9383_level0_row2\" class=\"row_heading level0 row2\" >Education</th>\n",
       "                        <td id=\"T_e9383_row2_col0\" class=\"data row2 col0\" >-0.05</td>\n",
       "                        <td id=\"T_e9383_row2_col1\" class=\"data row2 col1\" >-0.01</td>\n",
       "                        <td id=\"T_e9383_row2_col2\" class=\"data row2 col2\" >1.00</td>\n",
       "                        <td id=\"T_e9383_row2_col3\" class=\"data row2 col3\" >0.01</td>\n",
       "                        <td id=\"T_e9383_row2_col4\" class=\"data row2 col4\" >-0.14</td>\n",
       "                        <td id=\"T_e9383_row2_col5\" class=\"data row2 col5\" >-0.06</td>\n",
       "                        <td id=\"T_e9383_row2_col6\" class=\"data row2 col6\" >-0.17</td>\n",
       "                        <td id=\"T_e9383_row2_col7\" class=\"data row2 col7\" >-0.07</td>\n",
       "                        <td id=\"T_e9383_row2_col8\" class=\"data row2 col8\" >-0.07</td>\n",
       "                        <td id=\"T_e9383_row2_col9\" class=\"data row2 col9\" >-0.07</td>\n",
       "                        <td id=\"T_e9383_row2_col10\" class=\"data row2 col10\" >-0.09</td>\n",
       "                        <td id=\"T_e9383_row2_col11\" class=\"data row2 col11\" >0.06</td>\n",
       "            </tr>\n",
       "            <tr>\n",
       "                        <th id=\"T_e9383_level0_row3\" class=\"row_heading level0 row3\" >Self_Employed</th>\n",
       "                        <td id=\"T_e9383_row3_col0\" class=\"data row3 col0\" >-0.00</td>\n",
       "                        <td id=\"T_e9383_row3_col1\" class=\"data row3 col1\" >0.00</td>\n",
       "                        <td id=\"T_e9383_row3_col2\" class=\"data row3 col2\" >0.01</td>\n",
       "                        <td id=\"T_e9383_row3_col3\" class=\"data row3 col3\" >1.00</td>\n",
       "                        <td id=\"T_e9383_row3_col4\" class=\"data row3 col4\" >-0.13</td>\n",
       "                        <td id=\"T_e9383_row3_col5\" class=\"data row3 col5\" >0.02</td>\n",
       "                        <td id=\"T_e9383_row3_col6\" class=\"data row3 col6\" >-0.11</td>\n",
       "                        <td id=\"T_e9383_row3_col7\" class=\"data row3 col7\" >0.03</td>\n",
       "                        <td id=\"T_e9383_row3_col8\" class=\"data row3 col8\" >0.00</td>\n",
       "                        <td id=\"T_e9383_row3_col9\" class=\"data row3 col9\" >0.03</td>\n",
       "                        <td id=\"T_e9383_row3_col10\" class=\"data row3 col10\" >0.00</td>\n",
       "                        <td id=\"T_e9383_row3_col11\" class=\"data row3 col11\" >-0.06</td>\n",
       "            </tr>\n",
       "            <tr>\n",
       "                        <th id=\"T_e9383_level0_row4\" class=\"row_heading level0 row4\" >ApplicantIncome</th>\n",
       "                        <td id=\"T_e9383_row4_col0\" class=\"data row4 col0\" >-0.06</td>\n",
       "                        <td id=\"T_e9383_row4_col1\" class=\"data row4 col1\" >-0.05</td>\n",
       "                        <td id=\"T_e9383_row4_col2\" class=\"data row4 col2\" >-0.14</td>\n",
       "                        <td id=\"T_e9383_row4_col3\" class=\"data row4 col3\" >-0.13</td>\n",
       "                        <td id=\"T_e9383_row4_col4\" class=\"data row4 col4\" >1.00</td>\n",
       "                        <td id=\"T_e9383_row4_col5\" class=\"data row4 col5\" >-0.12</td>\n",
       "                        <td id=\"T_e9383_row4_col6\" class=\"data row4 col6\" >0.56</td>\n",
       "                        <td id=\"T_e9383_row4_col7\" class=\"data row4 col7\" >-0.05</td>\n",
       "                        <td id=\"T_e9383_row4_col8\" class=\"data row4 col8\" >-0.02</td>\n",
       "                        <td id=\"T_e9383_row4_col9\" class=\"data row4 col9\" >-0.01</td>\n",
       "                        <td id=\"T_e9383_row4_col10\" class=\"data row4 col10\" >-0.00</td>\n",
       "                        <td id=\"T_e9383_row4_col11\" class=\"data row4 col11\" >0.12</td>\n",
       "            </tr>\n",
       "            <tr>\n",
       "                        <th id=\"T_e9383_level0_row5\" class=\"row_heading level0 row5\" >CoapplicantIncome</th>\n",
       "                        <td id=\"T_e9383_row5_col0\" class=\"data row5 col0\" >-0.08</td>\n",
       "                        <td id=\"T_e9383_row5_col1\" class=\"data row5 col1\" >-0.08</td>\n",
       "                        <td id=\"T_e9383_row5_col2\" class=\"data row5 col2\" >-0.06</td>\n",
       "                        <td id=\"T_e9383_row5_col3\" class=\"data row5 col3\" >0.02</td>\n",
       "                        <td id=\"T_e9383_row5_col4\" class=\"data row5 col4\" >-0.12</td>\n",
       "                        <td id=\"T_e9383_row5_col5\" class=\"data row5 col5\" >1.00</td>\n",
       "                        <td id=\"T_e9383_row5_col6\" class=\"data row5 col6\" >0.19</td>\n",
       "                        <td id=\"T_e9383_row5_col7\" class=\"data row5 col7\" >-0.06</td>\n",
       "                        <td id=\"T_e9383_row5_col8\" class=\"data row5 col8\" >0.01</td>\n",
       "                        <td id=\"T_e9383_row5_col9\" class=\"data row5 col9\" >0.01</td>\n",
       "                        <td id=\"T_e9383_row5_col10\" class=\"data row5 col10\" >-0.06</td>\n",
       "                        <td id=\"T_e9383_row5_col11\" class=\"data row5 col11\" >0.03</td>\n",
       "            </tr>\n",
       "            <tr>\n",
       "                        <th id=\"T_e9383_level0_row6\" class=\"row_heading level0 row6\" >LoanAmount</th>\n",
       "                        <td id=\"T_e9383_row6_col0\" class=\"data row6 col0\" >-0.11</td>\n",
       "                        <td id=\"T_e9383_row6_col1\" class=\"data row6 col1\" >-0.15</td>\n",
       "                        <td id=\"T_e9383_row6_col2\" class=\"data row6 col2\" >-0.17</td>\n",
       "                        <td id=\"T_e9383_row6_col3\" class=\"data row6 col3\" >-0.11</td>\n",
       "                        <td id=\"T_e9383_row6_col4\" class=\"data row6 col4\" >0.56</td>\n",
       "                        <td id=\"T_e9383_row6_col5\" class=\"data row6 col5\" >0.19</td>\n",
       "                        <td id=\"T_e9383_row6_col6\" class=\"data row6 col6\" >1.00</td>\n",
       "                        <td id=\"T_e9383_row6_col7\" class=\"data row6 col7\" >0.04</td>\n",
       "                        <td id=\"T_e9383_row6_col8\" class=\"data row6 col8\" >-0.00</td>\n",
       "                        <td id=\"T_e9383_row6_col9\" class=\"data row6 col9\" >-0.05</td>\n",
       "                        <td id=\"T_e9383_row6_col10\" class=\"data row6 col10\" >-0.03</td>\n",
       "                        <td id=\"T_e9383_row6_col11\" class=\"data row6 col11\" >0.16</td>\n",
       "            </tr>\n",
       "            <tr>\n",
       "                        <th id=\"T_e9383_level0_row7\" class=\"row_heading level0 row7\" >Loan_Amount_Term</th>\n",
       "                        <td id=\"T_e9383_row7_col0\" class=\"data row7 col0\" >0.07</td>\n",
       "                        <td id=\"T_e9383_row7_col1\" class=\"data row7 col1\" >0.10</td>\n",
       "                        <td id=\"T_e9383_row7_col2\" class=\"data row7 col2\" >-0.07</td>\n",
       "                        <td id=\"T_e9383_row7_col3\" class=\"data row7 col3\" >0.03</td>\n",
       "                        <td id=\"T_e9383_row7_col4\" class=\"data row7 col4\" >-0.05</td>\n",
       "                        <td id=\"T_e9383_row7_col5\" class=\"data row7 col5\" >-0.06</td>\n",
       "                        <td id=\"T_e9383_row7_col6\" class=\"data row7 col6\" >0.04</td>\n",
       "                        <td id=\"T_e9383_row7_col7\" class=\"data row7 col7\" >1.00</td>\n",
       "                        <td id=\"T_e9383_row7_col8\" class=\"data row7 col8\" >-0.00</td>\n",
       "                        <td id=\"T_e9383_row7_col9\" class=\"data row7 col9\" >-0.08</td>\n",
       "                        <td id=\"T_e9383_row7_col10\" class=\"data row7 col10\" >-0.02</td>\n",
       "                        <td id=\"T_e9383_row7_col11\" class=\"data row7 col11\" >-0.10</td>\n",
       "            </tr>\n",
       "            <tr>\n",
       "                        <th id=\"T_e9383_level0_row8\" class=\"row_heading level0 row8\" >Credit_History</th>\n",
       "                        <td id=\"T_e9383_row8_col0\" class=\"data row8 col0\" >-0.01</td>\n",
       "                        <td id=\"T_e9383_row8_col1\" class=\"data row8 col1\" >-0.01</td>\n",
       "                        <td id=\"T_e9383_row8_col2\" class=\"data row8 col2\" >-0.07</td>\n",
       "                        <td id=\"T_e9383_row8_col3\" class=\"data row8 col3\" >0.00</td>\n",
       "                        <td id=\"T_e9383_row8_col4\" class=\"data row8 col4\" >-0.02</td>\n",
       "                        <td id=\"T_e9383_row8_col5\" class=\"data row8 col5\" >0.01</td>\n",
       "                        <td id=\"T_e9383_row8_col6\" class=\"data row8 col6\" >-0.00</td>\n",
       "                        <td id=\"T_e9383_row8_col7\" class=\"data row8 col7\" >-0.00</td>\n",
       "                        <td id=\"T_e9383_row8_col8\" class=\"data row8 col8\" >1.00</td>\n",
       "                        <td id=\"T_e9383_row8_col9\" class=\"data row8 col9\" >0.00</td>\n",
       "                        <td id=\"T_e9383_row8_col10\" class=\"data row8 col10\" >0.54</td>\n",
       "                        <td id=\"T_e9383_row8_col11\" class=\"data row8 col11\" >-0.04</td>\n",
       "            </tr>\n",
       "            <tr>\n",
       "                        <th id=\"T_e9383_level0_row9\" class=\"row_heading level0 row9\" >Property_Area</th>\n",
       "                        <td id=\"T_e9383_row9_col0\" class=\"data row9 col0\" >0.03</td>\n",
       "                        <td id=\"T_e9383_row9_col1\" class=\"data row9 col1\" >-0.00</td>\n",
       "                        <td id=\"T_e9383_row9_col2\" class=\"data row9 col2\" >-0.07</td>\n",
       "                        <td id=\"T_e9383_row9_col3\" class=\"data row9 col3\" >0.03</td>\n",
       "                        <td id=\"T_e9383_row9_col4\" class=\"data row9 col4\" >-0.01</td>\n",
       "                        <td id=\"T_e9383_row9_col5\" class=\"data row9 col5\" >0.01</td>\n",
       "                        <td id=\"T_e9383_row9_col6\" class=\"data row9 col6\" >-0.05</td>\n",
       "                        <td id=\"T_e9383_row9_col7\" class=\"data row9 col7\" >-0.08</td>\n",
       "                        <td id=\"T_e9383_row9_col8\" class=\"data row9 col8\" >0.00</td>\n",
       "                        <td id=\"T_e9383_row9_col9\" class=\"data row9 col9\" >1.00</td>\n",
       "                        <td id=\"T_e9383_row9_col10\" class=\"data row9 col10\" >0.03</td>\n",
       "                        <td id=\"T_e9383_row9_col11\" class=\"data row9 col11\" >-0.00</td>\n",
       "            </tr>\n",
       "            <tr>\n",
       "                        <th id=\"T_e9383_level0_row10\" class=\"row_heading level0 row10\" >Loan_Status</th>\n",
       "                        <td id=\"T_e9383_row10_col0\" class=\"data row10 col0\" >-0.02</td>\n",
       "                        <td id=\"T_e9383_row10_col1\" class=\"data row10 col1\" >-0.09</td>\n",
       "                        <td id=\"T_e9383_row10_col2\" class=\"data row10 col2\" >-0.09</td>\n",
       "                        <td id=\"T_e9383_row10_col3\" class=\"data row10 col3\" >0.00</td>\n",
       "                        <td id=\"T_e9383_row10_col4\" class=\"data row10 col4\" >-0.00</td>\n",
       "                        <td id=\"T_e9383_row10_col5\" class=\"data row10 col5\" >-0.06</td>\n",
       "                        <td id=\"T_e9383_row10_col6\" class=\"data row10 col6\" >-0.03</td>\n",
       "                        <td id=\"T_e9383_row10_col7\" class=\"data row10 col7\" >-0.02</td>\n",
       "                        <td id=\"T_e9383_row10_col8\" class=\"data row10 col8\" >0.54</td>\n",
       "                        <td id=\"T_e9383_row10_col9\" class=\"data row10 col9\" >0.03</td>\n",
       "                        <td id=\"T_e9383_row10_col10\" class=\"data row10 col10\" >1.00</td>\n",
       "                        <td id=\"T_e9383_row10_col11\" class=\"data row10 col11\" >0.01</td>\n",
       "            </tr>\n",
       "            <tr>\n",
       "                        <th id=\"T_e9383_level0_row11\" class=\"row_heading level0 row11\" >Dependents</th>\n",
       "                        <td id=\"T_e9383_row11_col0\" class=\"data row11 col0\" >-0.17</td>\n",
       "                        <td id=\"T_e9383_row11_col1\" class=\"data row11 col1\" >-0.33</td>\n",
       "                        <td id=\"T_e9383_row11_col2\" class=\"data row11 col2\" >0.06</td>\n",
       "                        <td id=\"T_e9383_row11_col3\" class=\"data row11 col3\" >-0.06</td>\n",
       "                        <td id=\"T_e9383_row11_col4\" class=\"data row11 col4\" >0.12</td>\n",
       "                        <td id=\"T_e9383_row11_col5\" class=\"data row11 col5\" >0.03</td>\n",
       "                        <td id=\"T_e9383_row11_col6\" class=\"data row11 col6\" >0.16</td>\n",
       "                        <td id=\"T_e9383_row11_col7\" class=\"data row11 col7\" >-0.10</td>\n",
       "                        <td id=\"T_e9383_row11_col8\" class=\"data row11 col8\" >-0.04</td>\n",
       "                        <td id=\"T_e9383_row11_col9\" class=\"data row11 col9\" >-0.00</td>\n",
       "                        <td id=\"T_e9383_row11_col10\" class=\"data row11 col10\" >0.01</td>\n",
       "                        <td id=\"T_e9383_row11_col11\" class=\"data row11 col11\" >1.00</td>\n",
       "            </tr>\n",
       "    </tbody></table>"
      ],
      "text/plain": [
       "<pandas.io.formats.style.Styler at 0x7f7be38d6d30>"
      ]
     },
     "execution_count": 83,
     "metadata": {},
     "output_type": "execute_result"
    }
   ],
   "source": [
    "# correlation table\n",
    "\n",
    "corr = dtr.corr()\n",
    "corr.style.background_gradient(cmap='YlGnBu').set_precision(2)"
   ]
  },
  {
   "cell_type": "code",
   "execution_count": null,
   "id": "7c95ecf7",
   "metadata": {
    "collapsed": true
   },
   "outputs": [],
   "source": [
    "# We can clearly see that Credit_History has the highest correlation with Loan_Status(a +ve correlation of 0.54)\n",
    "# Therefore our target value is highly dependant on this column"
   ]
  },
  {
   "cell_type": "code",
   "execution_count": null,
   "id": "d1c4b633",
   "metadata": {
    "collapsed": true
   },
   "outputs": [],
   "source": [
    "# MACHINE LEARNING MODELS\n",
    "\n",
    "# First of all we will divide our dataset into two variables X as the features we defined earlier \n",
    "# and y as the Loan_Status, the target value we want to predict.\n",
    "\n",
    "# Models we will use:\n",
    "#   Decision Tree\n",
    "#   Random Forest\n",
    "#   XGBoost\n",
    "#   Logistic Regression\n",
    "\n",
    "# The Process of Modeling the Data:\n",
    "#   Importing the model\n",
    "#   Fitting the model\n",
    "#   Predicting Loan Status\n",
    "#   Classification report by Loan Status\n",
    "#   Overall accuracy"
   ]
  },
  {
   "cell_type": "code",
   "execution_count": 89,
   "id": "705f58af",
   "metadata": {
    "collapsed": true
   },
   "outputs": [],
   "source": [
    "y = dtr['Loan_Status']\n",
    "X = dtr.drop('Loan_Status', axis=1)\n",
    "\n",
    "X_train, X_test, y_train, y_test = train_test_split(X,y, test_size=0.2, random_state=0)"
   ]
  },
  {
   "cell_type": "code",
   "execution_count": null,
   "id": "4e904a4c",
   "metadata": {},
   "outputs": [],
   "source": [
    "# DECISION TREE CLASSIFIER"
   ]
  },
  {
   "cell_type": "code",
   "execution_count": 99,
   "id": "0da3dce1",
   "metadata": {},
   "outputs": [
    {
     "name": "stdout",
     "output_type": "stream",
     "text": [
      "              precision    recall  f1-score   support\n",
      "\n",
      "           0       0.37      0.48      0.42        33\n",
      "           1       0.79      0.70      0.74        90\n",
      "\n",
      "    accuracy                           0.64       123\n",
      "   macro avg       0.58      0.59      0.58       123\n",
      "weighted avg       0.68      0.64      0.66       123\n",
      "\n",
      "64.23% Accurate\n"
     ]
    }
   ],
   "source": [
    "DT = DecisionTreeClassifier()\n",
    "DT.fit(X_train, y_train)\n",
    "\n",
    "y_predict = DT.predict(X_test) # lets us predict values based on the trained data\n",
    "\n",
    "print(classification_report(y_test, y_predict))\n",
    "\n",
    "DT_score = accuracy_score(y_predict,y_test)\n",
    "print(f\"{round(DT_score*100,2)}% Accurate\") # round() returns a floating value rounded up to specified decimla point"
   ]
  },
  {
   "cell_type": "code",
   "execution_count": 97,
   "id": "4acfe2e7",
   "metadata": {
    "collapsed": true
   },
   "outputs": [],
   "source": [
    "Decision_Tree = pd.DataFrame({'y_test':y_test,' Predicted':y_predict})\n",
    "Decision_Tree.to_csv(\"Decision Tree.csv\")     "
   ]
  },
  {
   "cell_type": "code",
   "execution_count": 103,
   "id": "020e9be2",
   "metadata": {},
   "outputs": [],
   "source": [
    "# RANDOM FOREST CLASSIFIER"
   ]
  },
  {
   "cell_type": "code",
   "execution_count": 100,
   "id": "898ffcdc",
   "metadata": {},
   "outputs": [
    {
     "name": "stdout",
     "output_type": "stream",
     "text": [
      "              precision    recall  f1-score   support\n",
      "\n",
      "           0       0.65      0.45      0.54        33\n",
      "           1       0.82      0.91      0.86        90\n",
      "\n",
      "    accuracy                           0.79       123\n",
      "   macro avg       0.74      0.68      0.70       123\n",
      "weighted avg       0.77      0.79      0.78       123\n",
      "\n",
      "78.86% Accurate\n"
     ]
    }
   ],
   "source": [
    "RF = RandomForestClassifier()\n",
    "RF.fit(X_train, y_train)\n",
    "\n",
    "y_predict = RF.predict(X_test) # lets us predict values based on the trained data\n",
    "\n",
    "print(classification_report(y_test, y_predict))\n",
    "\n",
    "RF_score = accuracy_score(y_predict,y_test)\n",
    "print(f\"{round(RF_score*100,2)}% Accurate\")"
   ]
  },
  {
   "cell_type": "code",
   "execution_count": 101,
   "id": "8c7768d1",
   "metadata": {},
   "outputs": [],
   "source": [
    "Random_Forest = pd.DataFrame({'y_test':y_test,'Predicted':y_predict})\n",
    "Random_Forest.to_csv(\"Random Forest.csv\")     "
   ]
  },
  {
   "cell_type": "code",
   "execution_count": 105,
   "id": "70040285",
   "metadata": {},
   "outputs": [
    {
     "name": "stdout",
     "output_type": "stream",
     "text": [
      "[12:30:57] WARNING: /opt/concourse/worker/volumes/live/7a2b9f41-3287-451b-6691-43e9a6c0910f/volume/xgboost-split_1619728204606/work/src/learner.cc:1061: Starting in XGBoost 1.3.0, the default evaluation metric used with the objective 'binary:logistic' was changed from 'error' to 'logloss'. Explicitly set eval_metric if you'd like to restore the old behavior.\n",
      "              precision    recall  f1-score   support\n",
      "\n",
      "           0       0.61      0.61      0.61        33\n",
      "           1       0.86      0.86      0.86        90\n",
      "\n",
      "    accuracy                           0.79       123\n",
      "   macro avg       0.73      0.73      0.73       123\n",
      "weighted avg       0.79      0.79      0.79       123\n",
      "\n",
      "78.86% Accurate\n"
     ]
    }
   ],
   "source": [
    "XGB = XGBClassifier()\n",
    "XGB.fit(X_train, y_train)\n",
    "\n",
    "y_predict = XGB.predict(X_test) # lets us predict values based on the trained data\n",
    "\n",
    "print(classification_report(y_test, y_predict))\n",
    "\n",
    "XGB_score = accuracy_score(y_predict,y_test)\n",
    "print(f\"{round(XGB_score*100,2)}% Accurate\")"
   ]
  },
  {
   "cell_type": "code",
   "execution_count": 106,
   "id": "fe3f4734",
   "metadata": {},
   "outputs": [],
   "source": [
    "XGBoost=pd.DataFrame({'y_test':y_test,'prediction':y_predict})\n",
    "XGBoost.to_csv(\"XGBoost.csv\")     "
   ]
  },
  {
   "cell_type": "code",
   "execution_count": null,
   "id": "eb996a84",
   "metadata": {},
   "outputs": [],
   "source": [
    "# LOGISTIC REGRESSION"
   ]
  },
  {
   "cell_type": "code",
   "execution_count": 114,
   "id": "cdff07f8",
   "metadata": {},
   "outputs": [
    {
     "name": "stdout",
     "output_type": "stream",
     "text": [
      "              precision    recall  f1-score   support\n",
      "\n",
      "           0       0.88      0.45      0.60        33\n",
      "           1       0.83      0.98      0.90        90\n",
      "\n",
      "    accuracy                           0.84       123\n",
      "   macro avg       0.86      0.72      0.75       123\n",
      "weighted avg       0.84      0.84      0.82       123\n",
      "\n",
      "Accuracy is 83.74 %\n"
     ]
    }
   ],
   "source": [
    "LR = LogisticRegression()\n",
    "LR.fit(X_train, y_train)\n",
    "\n",
    "y_predict = LR.predict(X_test)\n",
    "\n",
    "#  prediction Summary by species\n",
    "print(classification_report(y_test, y_predict))\n",
    "\n",
    "# Accuracy score\n",
    "LR_score = accuracy_score(y_predict,y_test)\n",
    "print('Accuracy is', round(accuracy_score(y_predict,y_test)*100,2), \"%\")"
   ]
  },
  {
   "cell_type": "code",
   "execution_count": 115,
   "id": "0e6f17ab",
   "metadata": {},
   "outputs": [],
   "source": [
    "Logistic_Regression=pd.DataFrame({'y_test':y_test,'prediction':y_predict})\n",
    "Logistic_Regression.to_csv(\"Logistic Regression.csv\")     "
   ]
  },
  {
   "cell_type": "code",
   "execution_count": 116,
   "id": "d8eec01f",
   "metadata": {},
   "outputs": [],
   "source": [
    "# CONCLUSION\n",
    "\n",
    "# Credit_History is a very important variable because of its high correlation with Loan_Status therefore\n",
    "# showing high Dependancy for the latter.\n",
    "# The Logistic Regression algorithm is the most accurate: approximately 84%."
   ]
  },
  {
   "cell_type": "code",
   "execution_count": 118,
   "id": "e1955bd6",
   "metadata": {},
   "outputs": [
    {
     "data": {
      "text/html": [
       "<div>\n",
       "<style scoped>\n",
       "    .dataframe tbody tr th:only-of-type {\n",
       "        vertical-align: middle;\n",
       "    }\n",
       "\n",
       "    .dataframe tbody tr th {\n",
       "        vertical-align: top;\n",
       "    }\n",
       "\n",
       "    .dataframe thead th {\n",
       "        text-align: right;\n",
       "    }\n",
       "</style>\n",
       "<table border=\"1\" class=\"dataframe\">\n",
       "  <thead>\n",
       "    <tr style=\"text-align: right;\">\n",
       "      <th></th>\n",
       "      <th>Model</th>\n",
       "      <th>Score</th>\n",
       "    </tr>\n",
       "  </thead>\n",
       "  <tbody>\n",
       "    <tr>\n",
       "      <th>3</th>\n",
       "      <td>Logistic Regression</td>\n",
       "      <td>0.837398</td>\n",
       "    </tr>\n",
       "    <tr>\n",
       "      <th>1</th>\n",
       "      <td>Random Forest</td>\n",
       "      <td>0.788618</td>\n",
       "    </tr>\n",
       "    <tr>\n",
       "      <th>2</th>\n",
       "      <td>XGBoost</td>\n",
       "      <td>0.788618</td>\n",
       "    </tr>\n",
       "    <tr>\n",
       "      <th>0</th>\n",
       "      <td>Decision Tree</td>\n",
       "      <td>0.642276</td>\n",
       "    </tr>\n",
       "  </tbody>\n",
       "</table>\n",
       "</div>"
      ],
      "text/plain": [
       "                 Model     Score\n",
       "3  Logistic Regression  0.837398\n",
       "1        Random Forest  0.788618\n",
       "2              XGBoost  0.788618\n",
       "0        Decision Tree  0.642276"
      ]
     },
     "execution_count": 118,
     "metadata": {},
     "output_type": "execute_result"
    }
   ],
   "source": [
    "score = [DT_score,RF_score,XGB_score,LR_score]\n",
    "Models = pd.DataFrame({'Model': [\"Decision Tree\",\"Random Forest\",\"XGBoost\", \"Logistic Regression\"],\n",
    "    'Score': score})\n",
    "Models.sort_values(by='Score', ascending=False)"
   ]
  },
  {
   "cell_type": "code",
   "execution_count": null,
   "id": "61b83c35",
   "metadata": {},
   "outputs": [],
   "source": []
  }
 ],
 "metadata": {
  "kernelspec": {
   "display_name": "Python 3",
   "language": "python",
   "name": "python3"
  },
  "language_info": {
   "codemirror_mode": {
    "name": "ipython",
    "version": 3
   },
   "file_extension": ".py",
   "mimetype": "text/x-python",
   "name": "python",
   "nbconvert_exporter": "python",
   "pygments_lexer": "ipython3",
   "version": "3.8.8"
  }
 },
 "nbformat": 4,
 "nbformat_minor": 5
}
